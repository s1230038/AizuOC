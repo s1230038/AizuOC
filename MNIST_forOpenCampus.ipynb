{
  "nbformat": 4,
  "nbformat_minor": 0,
  "metadata": {
    "colab": {
      "name": "MNIST_forOpenCampus.ipynb",
      "version": "0.3.2",
      "provenance": [],
      "collapsed_sections": []
    },
    "kernelspec": {
      "name": "python3",
      "display_name": "Python 3"
    },
    "accelerator": "GPU"
  },
  "cells": [
    {
      "metadata": {
        "id": "r-Rx6AoiS_Gy",
        "colab_type": "code",
        "colab": {}
      },
      "cell_type": "code",
      "source": [
        "# https://qiita.com/tomo_makes/items/f70fe48c428d3a61e131\n",
        "# MNISTデータセットの準備\n",
        "!pip install -q keras\n",
        "import keras"
      ],
      "execution_count": 0,
      "outputs": []
    },
    {
      "metadata": {
        "id": "C0bHV_AXT73o",
        "colab_type": "code",
        "colab": {
          "base_uri": "https://localhost:8080/",
          "height": 547
        },
        "outputId": "eb11fb3b-497a-467c-8d40-0464534fa45a"
      },
      "cell_type": "code",
      "source": [
        "# https://github.com/keras-team/keras/blob/master/examples/mnist_cnn.py\n",
        "'''Trains a simple convnet on the MNIST dataset.\n",
        "\n",
        "Gets to 99.25% test accuracy after 12 epochs\n",
        "(there is still a lot of margin for parameter tuning).\n",
        "16 seconds per epoch on a GRID K520 GPU.\n",
        "'''\n",
        "\n",
        "from __future__ import print_function\n",
        "import keras\n",
        "from keras.datasets import mnist\n",
        "from keras.models import Sequential\n",
        "from keras.layers import Dense, Dropout, Flatten\n",
        "from keras.layers import Conv2D, MaxPooling2D\n",
        "from keras import backend as K\n",
        "import numpy as np\n",
        "\n",
        "batch_size = 128\n",
        "num_classes = 10\n",
        "epochs = 12\n",
        "\n",
        "# input image dimensions\n",
        "img_rows, img_cols = 28, 28\n",
        "\n",
        "# the data, split between train and test sets\n",
        "(x_train, y_train), (x_test, y_test) = mnist.load_data()\n",
        "\n",
        "if K.image_data_format() == 'channels_first':\n",
        "    x_train = x_train.reshape(x_train.shape[0], 1, img_rows, img_cols)\n",
        "    x_test = x_test.reshape(x_test.shape[0], 1, img_rows, img_cols)\n",
        "    input_shape = (1, img_rows, img_cols)\n",
        "else:\n",
        "    x_train = x_train.reshape(x_train.shape[0], img_rows, img_cols, 1)\n",
        "    x_test = x_test.reshape(x_test.shape[0], img_rows, img_cols, 1)\n",
        "    input_shape = (img_rows, img_cols, 1)\n",
        "\n",
        "x_train = x_train.astype('float32')\n",
        "x_test = x_test.astype('float32')\n",
        "x_train = np.abs(255 - x_train) # 白黒反転(白地に黒文字になるはず)\n",
        "x_test = np.abs(255 - x_test)   # 白黒反転\n",
        "x_train /= 255\n",
        "x_test /= 255\n",
        "print('x_train shape:', x_train.shape)\n",
        "print(x_train.shape[0], 'train samples')\n",
        "print(x_test.shape[0], 'test samples')\n",
        "\n",
        "# convert class vectors to binary class matrices\n",
        "y_train = keras.utils.to_categorical(y_train, num_classes)\n",
        "y_test = keras.utils.to_categorical(y_test, num_classes)\n",
        "\n",
        "model = Sequential()\n",
        "model.add(Conv2D(32, kernel_size=(3, 3),\n",
        "                 activation='relu',\n",
        "                 input_shape=input_shape))\n",
        "model.add(Conv2D(64, (3, 3), activation='relu'))\n",
        "model.add(MaxPooling2D(pool_size=(2, 2)))\n",
        "model.add(Dropout(0.25))\n",
        "model.add(Flatten())\n",
        "model.add(Dense(128, activation='relu'))\n",
        "model.add(Dropout(0.5))\n",
        "model.add(Dense(num_classes, activation='softmax'))\n",
        "\n",
        "model.compile(loss=keras.losses.categorical_crossentropy,\n",
        "              optimizer=keras.optimizers.Adadelta(),\n",
        "              metrics=['accuracy'])\n",
        "\n",
        "model.fit(x_train, y_train,\n",
        "          batch_size=batch_size,\n",
        "          epochs=epochs,\n",
        "          verbose=1,\n",
        "          validation_data=(x_test, y_test))\n",
        "score = model.evaluate(x_test, y_test, verbose=0)\n",
        "print('Test loss:', score[0])\n",
        "print('Test accuracy:', score[1])\n"
      ],
      "execution_count": 5,
      "outputs": [
        {
          "output_type": "stream",
          "text": [
            "x_train shape: (60000, 28, 28, 1)\n",
            "60000 train samples\n",
            "10000 test samples\n",
            "Train on 60000 samples, validate on 10000 samples\n",
            "Epoch 1/12\n",
            "60000/60000 [==============================] - 12s 198us/step - loss: 0.2910 - acc: 0.9100 - val_loss: 0.0617 - val_acc: 0.9802\n",
            "Epoch 2/12\n",
            "60000/60000 [==============================] - 10s 164us/step - loss: 0.0937 - acc: 0.9716 - val_loss: 0.0452 - val_acc: 0.9855\n",
            "Epoch 3/12\n",
            "60000/60000 [==============================] - 10s 164us/step - loss: 0.0723 - acc: 0.9787 - val_loss: 0.0371 - val_acc: 0.9877\n",
            "Epoch 4/12\n",
            "60000/60000 [==============================] - 10s 164us/step - loss: 0.0605 - acc: 0.9823 - val_loss: 0.0333 - val_acc: 0.9889\n",
            "Epoch 5/12\n",
            "60000/60000 [==============================] - 10s 164us/step - loss: 0.0504 - acc: 0.9850 - val_loss: 0.0323 - val_acc: 0.9890\n",
            "Epoch 6/12\n",
            "60000/60000 [==============================] - 10s 164us/step - loss: 0.0458 - acc: 0.9864 - val_loss: 0.0314 - val_acc: 0.9895\n",
            "Epoch 7/12\n",
            "60000/60000 [==============================] - 10s 163us/step - loss: 0.0406 - acc: 0.9875 - val_loss: 0.0286 - val_acc: 0.9910\n",
            "Epoch 8/12\n",
            "60000/60000 [==============================] - 10s 163us/step - loss: 0.0366 - acc: 0.9886 - val_loss: 0.0288 - val_acc: 0.9912\n",
            "Epoch 9/12\n",
            "60000/60000 [==============================] - 10s 163us/step - loss: 0.0349 - acc: 0.9896 - val_loss: 0.0273 - val_acc: 0.9908\n",
            "Epoch 10/12\n",
            "60000/60000 [==============================] - 10s 163us/step - loss: 0.0328 - acc: 0.9901 - val_loss: 0.0267 - val_acc: 0.9914\n",
            "Epoch 11/12\n",
            "60000/60000 [==============================] - 10s 164us/step - loss: 0.0305 - acc: 0.9913 - val_loss: 0.0290 - val_acc: 0.9910\n",
            "Epoch 12/12\n",
            "60000/60000 [==============================] - 10s 164us/step - loss: 0.0288 - acc: 0.9916 - val_loss: 0.0299 - val_acc: 0.9911\n",
            "Test loss: 0.029919281563553342\n",
            "Test accuracy: 0.9911\n"
          ],
          "name": "stdout"
        }
      ]
    },
    {
      "metadata": {
        "id": "KQ8onvpPJXHD",
        "colab_type": "code",
        "colab": {}
      },
      "cell_type": "code",
      "source": [
        "# 検証用 白地に黒文字か確認\n",
        "from keras.preprocessing import image\n",
        "import numpy as np\n",
        "from google.colab import files\n",
        "\n",
        "img = image.array_to_img(x_train[0], scale=True)\n",
        "img.save(\"revert-x_train0.jpg\", 'JPEG', quality=100, optimize=True)\n",
        "files.download(\"revert-x_train0.jpg\")\n",
        "img = image.array_to_img(x_train[1], scale=True)\n",
        "img.save(\"revert-x_train1.jpg\", 'JPEG', quality=100, optimize=True)\n",
        "files.download(\"revert-x_train1.jpg\")"
      ],
      "execution_count": 0,
      "outputs": []
    },
    {
      "metadata": {
        "id": "ujUQs0gjUI_m",
        "colab_type": "code",
        "colab": {}
      },
      "cell_type": "code",
      "source": [
        "#モデルの保存\n",
        "json_string = model.model.to_json()\n",
        "open('./mnist_predict.json', 'w').write(json_string)\n",
        "#重みの保存\n",
        "hdf5_file = \"./mnist_predict.hdf5\"\n",
        "model.model.save_weights(hdf5_file)"
      ],
      "execution_count": 0,
      "outputs": []
    },
    {
      "metadata": {
        "id": "4qzfgTqH97jT",
        "colab_type": "code",
        "colab": {}
      },
      "cell_type": "code",
      "source": [
        "# ファイルをダウンロード ※ブラウザの上の方を見て、複数ファイルのダウンロードを許可する。\n",
        "from google.colab import files\n",
        "files.download(\"./mnist_predict.json\")\n",
        "files.download(\"./mnist_predict.hdf5\")"
      ],
      "execution_count": 0,
      "outputs": []
    },
    {
      "metadata": {
        "id": "ZABoWqnuPjXE",
        "colab_type": "code",
        "colab": {
          "resources": {
            "http://localhost:8080/nbextensions/google.colab/files.js": {
              "data": "Ly8gQ29weXJpZ2h0IDIwMTcgR29vZ2xlIExMQwovLwovLyBMaWNlbnNlZCB1bmRlciB0aGUgQXBhY2hlIExpY2Vuc2UsIFZlcnNpb24gMi4wICh0aGUgIkxpY2Vuc2UiKTsKLy8geW91IG1heSBub3QgdXNlIHRoaXMgZmlsZSBleGNlcHQgaW4gY29tcGxpYW5jZSB3aXRoIHRoZSBMaWNlbnNlLgovLyBZb3UgbWF5IG9idGFpbiBhIGNvcHkgb2YgdGhlIExpY2Vuc2UgYXQKLy8KLy8gICAgICBodHRwOi8vd3d3LmFwYWNoZS5vcmcvbGljZW5zZXMvTElDRU5TRS0yLjAKLy8KLy8gVW5sZXNzIHJlcXVpcmVkIGJ5IGFwcGxpY2FibGUgbGF3IG9yIGFncmVlZCB0byBpbiB3cml0aW5nLCBzb2Z0d2FyZQovLyBkaXN0cmlidXRlZCB1bmRlciB0aGUgTGljZW5zZSBpcyBkaXN0cmlidXRlZCBvbiBhbiAiQVMgSVMiIEJBU0lTLAovLyBXSVRIT1VUIFdBUlJBTlRJRVMgT1IgQ09ORElUSU9OUyBPRiBBTlkgS0lORCwgZWl0aGVyIGV4cHJlc3Mgb3IgaW1wbGllZC4KLy8gU2VlIHRoZSBMaWNlbnNlIGZvciB0aGUgc3BlY2lmaWMgbGFuZ3VhZ2UgZ292ZXJuaW5nIHBlcm1pc3Npb25zIGFuZAovLyBsaW1pdGF0aW9ucyB1bmRlciB0aGUgTGljZW5zZS4KCi8qKgogKiBAZmlsZW92ZXJ2aWV3IEhlbHBlcnMgZm9yIGdvb2dsZS5jb2xhYiBQeXRob24gbW9kdWxlLgogKi8KKGZ1bmN0aW9uKHNjb3BlKSB7CmZ1bmN0aW9uIHNwYW4odGV4dCwgc3R5bGVBdHRyaWJ1dGVzID0ge30pIHsKICBjb25zdCBlbGVtZW50ID0gZG9jdW1lbnQuY3JlYXRlRWxlbWVudCgnc3BhbicpOwogIGVsZW1lbnQudGV4dENvbnRlbnQgPSB0ZXh0OwogIGZvciAoY29uc3Qga2V5IG9mIE9iamVjdC5rZXlzKHN0eWxlQXR0cmlidXRlcykpIHsKICAgIGVsZW1lbnQuc3R5bGVba2V5XSA9IHN0eWxlQXR0cmlidXRlc1trZXldOwogIH0KICByZXR1cm4gZWxlbWVudDsKfQoKLy8gTWF4IG51bWJlciBvZiBieXRlcyB3aGljaCB3aWxsIGJlIHVwbG9hZGVkIGF0IGEgdGltZS4KY29uc3QgTUFYX1BBWUxPQURfU0laRSA9IDEwMCAqIDEwMjQ7Ci8vIE1heCBhbW91bnQgb2YgdGltZSB0byBibG9jayB3YWl0aW5nIGZvciB0aGUgdXNlci4KY29uc3QgRklMRV9DSEFOR0VfVElNRU9VVF9NUyA9IDMwICogMTAwMDsKCmZ1bmN0aW9uIF91cGxvYWRGaWxlcyhpbnB1dElkLCBvdXRwdXRJZCkgewogIGNvbnN0IHN0ZXBzID0gdXBsb2FkRmlsZXNTdGVwKGlucHV0SWQsIG91dHB1dElkKTsKICBjb25zdCBvdXRwdXRFbGVtZW50ID0gZG9jdW1lbnQuZ2V0RWxlbWVudEJ5SWQob3V0cHV0SWQpOwogIC8vIENhY2hlIHN0ZXBzIG9uIHRoZSBvdXRwdXRFbGVtZW50IHRvIG1ha2UgaXQgYXZhaWxhYmxlIGZvciB0aGUgbmV4dCBjYWxsCiAgLy8gdG8gdXBsb2FkRmlsZXNDb250aW51ZSBmcm9tIFB5dGhvbi4KICBvdXRwdXRFbGVtZW50LnN0ZXBzID0gc3RlcHM7CgogIHJldHVybiBfdXBsb2FkRmlsZXNDb250aW51ZShvdXRwdXRJZCk7Cn0KCi8vIFRoaXMgaXMgcm91Z2hseSBhbiBhc3luYyBnZW5lcmF0b3IgKG5vdCBzdXBwb3J0ZWQgaW4gdGhlIGJyb3dzZXIgeWV0KSwKLy8gd2hlcmUgdGhlcmUgYXJlIG11bHRpcGxlIGFzeW5jaHJvbm91cyBzdGVwcyBhbmQgdGhlIFB5dGhvbiBzaWRlIGlzIGdvaW5nCi8vIHRvIHBvbGwgZm9yIGNvbXBsZXRpb24gb2YgZWFjaCBzdGVwLgovLyBUaGlzIHVzZXMgYSBQcm9taXNlIHRvIGJsb2NrIHRoZSBweXRob24gc2lkZSBvbiBjb21wbGV0aW9uIG9mIGVhY2ggc3RlcCwKLy8gdGhlbiBwYXNzZXMgdGhlIHJlc3VsdCBvZiB0aGUgcHJldmlvdXMgc3RlcCBhcyB0aGUgaW5wdXQgdG8gdGhlIG5leHQgc3RlcC4KZnVuY3Rpb24gX3VwbG9hZEZpbGVzQ29udGludWUob3V0cHV0SWQpIHsKICBjb25zdCBvdXRwdXRFbGVtZW50ID0gZG9jdW1lbnQuZ2V0RWxlbWVudEJ5SWQob3V0cHV0SWQpOwogIGNvbnN0IHN0ZXBzID0gb3V0cHV0RWxlbWVudC5zdGVwczsKCiAgY29uc3QgbmV4dCA9IHN0ZXBzLm5leHQob3V0cHV0RWxlbWVudC5sYXN0UHJvbWlzZVZhbHVlKTsKICByZXR1cm4gUHJvbWlzZS5yZXNvbHZlKG5leHQudmFsdWUucHJvbWlzZSkudGhlbigodmFsdWUpID0+IHsKICAgIC8vIENhY2hlIHRoZSBsYXN0IHByb21pc2UgdmFsdWUgdG8gbWFrZSBpdCBhdmFpbGFibGUgdG8gdGhlIG5leHQKICAgIC8vIHN0ZXAgb2YgdGhlIGdlbmVyYXRvci4KICAgIG91dHB1dEVsZW1lbnQubGFzdFByb21pc2VWYWx1ZSA9IHZhbHVlOwogICAgcmV0dXJuIG5leHQudmFsdWUucmVzcG9uc2U7CiAgfSk7Cn0KCi8qKgogKiBHZW5lcmF0b3IgZnVuY3Rpb24gd2hpY2ggaXMgY2FsbGVkIGJldHdlZW4gZWFjaCBhc3luYyBzdGVwIG9mIHRoZSB1cGxvYWQKICogcHJvY2Vzcy4KICogQHBhcmFtIHtzdHJpbmd9IGlucHV0SWQgRWxlbWVudCBJRCBvZiB0aGUgaW5wdXQgZmlsZSBwaWNrZXIgZWxlbWVudC4KICogQHBhcmFtIHtzdHJpbmd9IG91dHB1dElkIEVsZW1lbnQgSUQgb2YgdGhlIG91dHB1dCBkaXNwbGF5LgogKiBAcmV0dXJuIHshSXRlcmFibGU8IU9iamVjdD59IEl0ZXJhYmxlIG9mIG5leHQgc3RlcHMuCiAqLwpmdW5jdGlvbiogdXBsb2FkRmlsZXNTdGVwKGlucHV0SWQsIG91dHB1dElkKSB7CiAgY29uc3QgaW5wdXRFbGVtZW50ID0gZG9jdW1lbnQuZ2V0RWxlbWVudEJ5SWQoaW5wdXRJZCk7CiAgaW5wdXRFbGVtZW50LmRpc2FibGVkID0gZmFsc2U7CgogIGNvbnN0IG91dHB1dEVsZW1lbnQgPSBkb2N1bWVudC5nZXRFbGVtZW50QnlJZChvdXRwdXRJZCk7CiAgb3V0cHV0RWxlbWVudC5pbm5lckhUTUwgPSAnJzsKCiAgY29uc3QgcGlja2VkUHJvbWlzZSA9IG5ldyBQcm9taXNlKChyZXNvbHZlKSA9PiB7CiAgICBpbnB1dEVsZW1lbnQuYWRkRXZlbnRMaXN0ZW5lcignY2hhbmdlJywgKGUpID0+IHsKICAgICAgcmVzb2x2ZShlLnRhcmdldC5maWxlcyk7CiAgICB9KTsKICB9KTsKCiAgY29uc3QgY2FuY2VsID0gZG9jdW1lbnQuY3JlYXRlRWxlbWVudCgnYnV0dG9uJyk7CiAgaW5wdXRFbGVtZW50LnBhcmVudEVsZW1lbnQuYXBwZW5kQ2hpbGQoY2FuY2VsKTsKICBjYW5jZWwudGV4dENvbnRlbnQgPSAnQ2FuY2VsIHVwbG9hZCc7CiAgY29uc3QgY2FuY2VsUHJvbWlzZSA9IG5ldyBQcm9taXNlKChyZXNvbHZlKSA9PiB7CiAgICBjYW5jZWwub25jbGljayA9ICgpID0+IHsKICAgICAgcmVzb2x2ZShudWxsKTsKICAgIH07CiAgfSk7CgogIC8vIENhbmNlbCB1cGxvYWQgaWYgdXNlciBoYXNuJ3QgcGlja2VkIGFueXRoaW5nIGluIHRpbWVvdXQuCiAgY29uc3QgdGltZW91dFByb21pc2UgPSBuZXcgUHJvbWlzZSgocmVzb2x2ZSkgPT4gewogICAgc2V0VGltZW91dCgoKSA9PiB7CiAgICAgIHJlc29sdmUobnVsbCk7CiAgICB9LCBGSUxFX0NIQU5HRV9USU1FT1VUX01TKTsKICB9KTsKCiAgLy8gV2FpdCBmb3IgdGhlIHVzZXIgdG8gcGljayB0aGUgZmlsZXMuCiAgY29uc3QgZmlsZXMgPSB5aWVsZCB7CiAgICBwcm9taXNlOiBQcm9taXNlLnJhY2UoW3BpY2tlZFByb21pc2UsIHRpbWVvdXRQcm9taXNlLCBjYW5jZWxQcm9taXNlXSksCiAgICByZXNwb25zZTogewogICAgICBhY3Rpb246ICdzdGFydGluZycsCiAgICB9CiAgfTsKCiAgaWYgKCFmaWxlcykgewogICAgcmV0dXJuIHsKICAgICAgcmVzcG9uc2U6IHsKICAgICAgICBhY3Rpb246ICdjb21wbGV0ZScsCiAgICAgIH0KICAgIH07CiAgfQoKICBjYW5jZWwucmVtb3ZlKCk7CgogIC8vIERpc2FibGUgdGhlIGlucHV0IGVsZW1lbnQgc2luY2UgZnVydGhlciBwaWNrcyBhcmUgbm90IGFsbG93ZWQuCiAgaW5wdXRFbGVtZW50LmRpc2FibGVkID0gdHJ1ZTsKCiAgZm9yIChjb25zdCBmaWxlIG9mIGZpbGVzKSB7CiAgICBjb25zdCBsaSA9IGRvY3VtZW50LmNyZWF0ZUVsZW1lbnQoJ2xpJyk7CiAgICBsaS5hcHBlbmQoc3BhbihmaWxlLm5hbWUsIHtmb250V2VpZ2h0OiAnYm9sZCd9KSk7CiAgICBsaS5hcHBlbmQoc3BhbigKICAgICAgICBgKCR7ZmlsZS50eXBlIHx8ICduL2EnfSkgLSAke2ZpbGUuc2l6ZX0gYnl0ZXMsIGAgKwogICAgICAgIGBsYXN0IG1vZGlmaWVkOiAkewogICAgICAgICAgICBmaWxlLmxhc3RNb2RpZmllZERhdGUgPyBmaWxlLmxhc3RNb2RpZmllZERhdGUudG9Mb2NhbGVEYXRlU3RyaW5nKCkgOgogICAgICAgICAgICAgICAgICAgICAgICAgICAgICAgICAgICAnbi9hJ30gLSBgKSk7CiAgICBjb25zdCBwZXJjZW50ID0gc3BhbignMCUgZG9uZScpOwogICAgbGkuYXBwZW5kQ2hpbGQocGVyY2VudCk7CgogICAgb3V0cHV0RWxlbWVudC5hcHBlbmRDaGlsZChsaSk7CgogICAgY29uc3QgZmlsZURhdGFQcm9taXNlID0gbmV3IFByb21pc2UoKHJlc29sdmUpID0+IHsKICAgICAgY29uc3QgcmVhZGVyID0gbmV3IEZpbGVSZWFkZXIoKTsKICAgICAgcmVhZGVyLm9ubG9hZCA9IChlKSA9PiB7CiAgICAgICAgcmVzb2x2ZShlLnRhcmdldC5yZXN1bHQpOwogICAgICB9OwogICAgICByZWFkZXIucmVhZEFzQXJyYXlCdWZmZXIoZmlsZSk7CiAgICB9KTsKICAgIC8vIFdhaXQgZm9yIHRoZSBkYXRhIHRvIGJlIHJlYWR5LgogICAgbGV0IGZpbGVEYXRhID0geWllbGQgewogICAgICBwcm9taXNlOiBmaWxlRGF0YVByb21pc2UsCiAgICAgIHJlc3BvbnNlOiB7CiAgICAgICAgYWN0aW9uOiAnY29udGludWUnLAogICAgICB9CiAgICB9OwoKICAgIC8vIFVzZSBhIGNodW5rZWQgc2VuZGluZyB0byBhdm9pZCBtZXNzYWdlIHNpemUgbGltaXRzLiBTZWUgYi82MjExNTY2MC4KICAgIGxldCBwb3NpdGlvbiA9IDA7CiAgICB3aGlsZSAocG9zaXRpb24gPCBmaWxlRGF0YS5ieXRlTGVuZ3RoKSB7CiAgICAgIGNvbnN0IGxlbmd0aCA9IE1hdGgubWluKGZpbGVEYXRhLmJ5dGVMZW5ndGggLSBwb3NpdGlvbiwgTUFYX1BBWUxPQURfU0laRSk7CiAgICAgIGNvbnN0IGNodW5rID0gbmV3IFVpbnQ4QXJyYXkoZmlsZURhdGEsIHBvc2l0aW9uLCBsZW5ndGgpOwogICAgICBwb3NpdGlvbiArPSBsZW5ndGg7CgogICAgICBjb25zdCBiYXNlNjQgPSBidG9hKFN0cmluZy5mcm9tQ2hhckNvZGUuYXBwbHkobnVsbCwgY2h1bmspKTsKICAgICAgeWllbGQgewogICAgICAgIHJlc3BvbnNlOiB7CiAgICAgICAgICBhY3Rpb246ICdhcHBlbmQnLAogICAgICAgICAgZmlsZTogZmlsZS5uYW1lLAogICAgICAgICAgZGF0YTogYmFzZTY0LAogICAgICAgIH0sCiAgICAgIH07CiAgICAgIHBlcmNlbnQudGV4dENvbnRlbnQgPQogICAgICAgICAgYCR7TWF0aC5yb3VuZCgocG9zaXRpb24gLyBmaWxlRGF0YS5ieXRlTGVuZ3RoKSAqIDEwMCl9JSBkb25lYDsKICAgIH0KICB9CgogIC8vIEFsbCBkb25lLgogIHlpZWxkIHsKICAgIHJlc3BvbnNlOiB7CiAgICAgIGFjdGlvbjogJ2NvbXBsZXRlJywKICAgIH0KICB9Owp9CgpzY29wZS5nb29nbGUgPSBzY29wZS5nb29nbGUgfHwge307CnNjb3BlLmdvb2dsZS5jb2xhYiA9IHNjb3BlLmdvb2dsZS5jb2xhYiB8fCB7fTsKc2NvcGUuZ29vZ2xlLmNvbGFiLl9maWxlcyA9IHsKICBfdXBsb2FkRmlsZXMsCiAgX3VwbG9hZEZpbGVzQ29udGludWUsCn07Cn0pKHNlbGYpOwo=",
              "ok": true,
              "headers": [
                [
                  "content-type",
                  "application/javascript"
                ]
              ],
              "status": 200,
              "status_text": ""
            }
          },
          "base_uri": "https://localhost:8080/",
          "height": 621
        },
        "outputId": "cd9a9a6d-6d9a-4876-891b-6e3297f88147"
      },
      "cell_type": "code",
      "source": [
        "# 0-9の手書き数字をまとめてアップロード\n",
        "!rm *.zip *jpg *JPG\n",
        "uploaded = files.upload()\n",
        "!unzip -o num.zip\n",
        "!ls -lh"
      ],
      "execution_count": 15,
      "outputs": [
        {
          "output_type": "stream",
          "text": [
            "rm: cannot remove '*.zip': No such file or directory\r\n",
            "rm: cannot remove '*jpg': No such file or directory\r\n",
            "rm: cannot remove '*JPG': No such file or directory\r\n"
          ],
          "name": "stdout"
        },
        {
          "output_type": "display_data",
          "data": {
            "text/html": [
              "\n",
              "     <input type=\"file\" id=\"files-b5068b12-722c-4c48-ba19-979309013c82\" name=\"files[]\" multiple disabled />\n",
              "     <output id=\"result-b5068b12-722c-4c48-ba19-979309013c82\">\n",
              "      Upload widget is only available when the cell has been executed in the\n",
              "      current browser session. Please rerun this cell to enable.\n",
              "      </output>\n",
              "      <script src=\"/nbextensions/google.colab/files.js\"></script> "
            ],
            "text/plain": [
              "<IPython.core.display.HTML object>"
            ]
          },
          "metadata": {
            "tags": []
          }
        },
        {
          "output_type": "stream",
          "text": [
            "Saving num.zip to num.zip\n",
            "Archive:  num.zip\n",
            "  inflating: 0.jpg                   \n",
            "  inflating: 1.jpg                   \n",
            "  inflating: 2.jpg                   \n",
            "  inflating: 3.jpg                   \n",
            "  inflating: 4.jpg                   \n",
            "  inflating: 5.jpg                   \n",
            "  inflating: 6.jpg                   \n",
            "  inflating: 7.jpg                   \n",
            "  inflating: 8.jpg                   \n",
            "  inflating: 9.jpg                   \n",
            "total 28M\n",
            "-rw-r--r-- 1 root root 1.3M Aug  9 12:49 0.jpg\n",
            "-rw-r--r-- 1 root root 1.1M Aug  9 12:49 1.jpg\n",
            "-rw-r--r-- 1 root root 1.2M Aug  9 12:49 2.jpg\n",
            "-rw-r--r-- 1 root root 1.2M Aug  9 12:49 3.jpg\n",
            "-rw-r--r-- 1 root root 1.2M Aug  9 12:49 4.jpg\n",
            "-rw-r--r-- 1 root root 1.2M Aug  9 12:49 5.jpg\n",
            "-rw-r--r-- 1 root root 1.2M Aug  9 12:49 6.jpg\n",
            "-rw-r--r-- 1 root root 1.2M Aug  9 12:49 7.jpg\n",
            "-rw-r--r-- 1 root root 1.3M Aug  9 12:49 8.jpg\n",
            "-rw-r--r-- 1 root root 1.2M Aug  9 12:49 9.jpg\n",
            "lrwxrwxrwx 1 root root    8 Aug 15 20:56 datalab -> /content\n",
            "-rw-r--r-- 1 root root 4.6M Aug 22 07:24 mnist_predict.hdf5\n",
            "-rw-r--r-- 1 root root 3.6K Aug 22 07:24 mnist_predict.json\n",
            "-rw-r--r-- 1 root root  858 Aug 22 07:26 num.png\n",
            "-rw-r--r-- 1 root root  12M Aug 22 07:30 num.zip\n",
            "-rw-r--r-- 1 root root  540 Aug 22 07:26 revert-num.png\n",
            "drwxr-xr-x 2 root root 4.0K Aug 15 20:56 sample_data\n"
          ],
          "name": "stdout"
        }
      ]
    },
    {
      "metadata": {
        "id": "UXZ3zHnZa5aG",
        "colab_type": "code",
        "colab": {}
      },
      "cell_type": "code",
      "source": [
        "# # 画像の縮小検証\n",
        "# !rm *-hw3*\n",
        "# from keras.preprocessing import image\n",
        "# import numpy as np\n",
        "# from google.colab import files\n",
        "# import cv2\n",
        "# # 判定対象のファイルをアップロード\n",
        "# uploaded = files.upload()\n",
        "# !pwd\n",
        "# !ls -l\n",
        "# # input image dimensions\n",
        "# img_rows, img_cols = 28, 28\n",
        "# # 画像の読み込みと縮小 https://stackoverflow.com/questions/48121916/numpy-resize-rescale-image\n",
        "# img_path = str(input())\n",
        "# img = cv2.imread(img_path, cv2.IMREAD_GRAYSCALE)\n",
        "# cv2.imwrite(\"GRAYSCALE-\"+img_path, img)\n",
        "# res = cv2.resize(img, dsize=(img_rows, img_cols), interpolation=cv2.INTER_NEAREST )\n",
        "# cv2.imwrite(\"INTER_NEAREST-\"+img_path, res)\n",
        "# res = cv2.resize(img, dsize=(img_rows, img_cols), interpolation=cv2.INTER_LINEAR  )\n",
        "# cv2.imwrite(\"INTER_LINEAR-\"+img_path, res)\n",
        "# res = cv2.resize(img, dsize=(img_rows, img_cols), interpolation=cv2.INTER_CUBIC  )\n",
        "# cv2.imwrite(\"INTER_CUBIC-\"+img_path, res)\n",
        "# res = cv2.resize(img, dsize=(img_rows, img_cols), interpolation=cv2.INTER_AREA  )  \n",
        "# cv2.imwrite(\"INTER_AREA-\"+img_path, res)\n",
        "# res = cv2.resize(img, dsize=(img_rows, img_cols), interpolation=cv2.INTER_LANCZOS4  )\n",
        "# cv2.imwrite(\"INTER_LANCZOS4-\"+img_path, res)\n",
        "# !ls -lh\n",
        "# !zip hw3.zip *-hw3*\n",
        "# !ls -lh\n",
        "# files.download(\"hw3.zip\")"
      ],
      "execution_count": 0,
      "outputs": []
    },
    {
      "metadata": {
        "id": "VDMfZgX8_oUy",
        "colab_type": "code",
        "colab": {
          "resources": {
            "http://localhost:8080/nbextensions/google.colab/files.js": {
              "data": "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",
              "ok": true,
              "headers": [
                [
                  "content-type",
                  "application/javascript"
                ]
              ],
              "status": 200,
              "status_text": ""
            }
          },
          "base_uri": "https://localhost:8080/",
          "height": 434
        },
        "outputId": "fcfb7b90-d15d-4937-dcc2-387712ec59e1"
      },
      "cell_type": "code",
      "source": [
        "# https://qiita.com/tomo_20180402/items/e8c55bdca648f4877188  を参考にした\n",
        "# 手書きの数字ファイルを選ばせる\n",
        "from __future__ import print_function\n",
        "import keras\n",
        "from keras.datasets import mnist\n",
        "from keras.models import Sequential\n",
        "from keras.layers import Dense, Dropout, Flatten\n",
        "from keras.layers import Conv2D, MaxPooling2D\n",
        "from keras import backend as K\n",
        "from keras.models import model_from_json\n",
        "import numpy as np\n",
        "from google.colab import files\n",
        "import cv2\n",
        "\n",
        "#保存したモデルの読み込み\n",
        "model = model_from_json(open('./mnist_predict.json').read())\n",
        "#保存した重みの読み込み\n",
        "model.load_weights('./mnist_predict.hdf5')\n",
        "\n",
        "# 判定対象のファイルをアップロード\n",
        "uploaded = files.upload()\n",
        "!pwd\n",
        "!ls -l\n",
        "\n",
        "# input image dimensions\n",
        "num_classes = 10\n",
        "img_rows, img_cols = 28, 28\n",
        "\n",
        "# 画像の読み込みと縮小\n",
        "# https://stackoverflow.com/questions/48121916/numpy-resize-rescale-image\n",
        "img_path = str(input())\n",
        "img = cv2.imread(img_path, cv2.IMREAD_GRAYSCALE)\n",
        "x = cv2.resize(img, dsize=(img_rows, img_cols), interpolation=cv2.INTER_AREA  ) \n",
        "# 検証用\n",
        "cv2.imwrite(\"revert-\"+img_path, x)\n",
        "# files.download(\"revert-\" + img_path)\n",
        "\n",
        "# グレースケースを0以上1以下に変換\n",
        "x = x.astype('float32')\n",
        "x /= 255\n",
        "\n",
        "# 軸を増やす\n",
        "x = np.expand_dims(x, axis=0)\n",
        "x = np.expand_dims(x, axis=3)\n",
        "\n",
        "#予測\n",
        "features = model.predict(x)\n",
        "\n",
        "#予測結果\n",
        "message = \"Your writing number is: \" + str(np.argmax(features))\n",
        "print(message)\n",
        "print(\"probability: \" + str(np.max(features)*100) + \" %\")\n",
        "print(\"Number : Probability\")\n",
        "for num, prob in enumerate(features[0]):\n",
        "  # print(str(number) + \" : \" + str(features[0][number]) )\n",
        "  print(str(num) + \" : \" + str(prob*100) + \" %\" )"
      ],
      "execution_count": 13,
      "outputs": [
        {
          "output_type": "display_data",
          "data": {
            "text/html": [
              "\n",
              "     <input type=\"file\" id=\"files-2678d82d-6603-4eb8-8397-c3f3171c56b5\" name=\"files[]\" multiple disabled />\n",
              "     <output id=\"result-2678d82d-6603-4eb8-8397-c3f3171c56b5\">\n",
              "      Upload widget is only available when the cell has been executed in the\n",
              "      current browser session. Please rerun this cell to enable.\n",
              "      </output>\n",
              "      <script src=\"/nbextensions/google.colab/files.js\"></script> "
            ],
            "text/plain": [
              "<IPython.core.display.HTML object>"
            ]
          },
          "metadata": {
            "tags": []
          }
        },
        {
          "output_type": "stream",
          "text": [
            "Saving num.png to num.png\n",
            "/content\n",
            "total 4724\n",
            "lrwxrwxrwx 1 root root       8 Aug 15 20:56 datalab -> /content\n",
            "-rw-r--r-- 1 root root 4822552 Aug 22 07:24 mnist_predict.hdf5\n",
            "-rw-r--r-- 1 root root    3667 Aug 22 07:24 mnist_predict.json\n",
            "-rw-r--r-- 1 root root     858 Aug 22 07:26 num.png\n",
            "drwxr-xr-x 2 root root    4096 Aug 15 20:56 sample_data\n",
            "num.png\n",
            "Your writing number is: 3\n",
            "probability: 99.89011287689209 %\n",
            "Number : Probability\n",
            "0 : 4.554889798669137e-07 %\n",
            "1 : 3.4547589677913493e-06 %\n",
            "2 : 0.0439290190115571 %\n",
            "3 : 99.89011287689209 %\n",
            "4 : 5.391403234966674e-06 %\n",
            "5 : 0.019417033763602376 %\n",
            "6 : 1.9153077346345526e-06 %\n",
            "7 : 0.00048486435844097286 %\n",
            "8 : 0.013769684301223606 %\n",
            "9 : 0.03228344430681318 %\n"
          ],
          "name": "stdout"
        }
      ]
    },
    {
      "metadata": {
        "id": "r8g82echfzVz",
        "colab_type": "code",
        "colab": {
          "base_uri": "https://localhost:8080/",
          "height": 867
        },
        "outputId": "5c1dbf1d-4620-4be4-9f06-94a582cd8c2a"
      },
      "cell_type": "code",
      "source": [
        "# まとめて検証用\n",
        "for num in range(0, 10):\n",
        "  img_path = str(num) + \".jpg\"\n",
        "  print(img_path)\n",
        "  # 画像の読み込みと縮小\n",
        "  # https://stackoverflow.com/questions/48121916/numpy-resize-rescale-image\n",
        "  img = cv2.imread(img_path, cv2.IMREAD_GRAYSCALE)\n",
        "  x = cv2.resize(img, dsize=(img_rows, img_cols), interpolation=cv2.INTER_AREA  ) \n",
        "  # 検証用\n",
        "  cv2.imwrite(\"revert-\"+img_path, x)\n",
        "  # files.download(\"revert-\" + img_path)\n",
        "  # グレースケースを0以上1以下に変換\n",
        "  x = x.astype('float32')\n",
        "  x /= 255\n",
        "  \n",
        "  # 軸を増やす\n",
        "  x = np.expand_dims(x, axis=0)\n",
        "  x = np.expand_dims(x, axis=3)\n",
        "\n",
        "  #予測\n",
        "  features = model.predict(x)\n",
        "\n",
        "  #予測結果によって処理を分ける\n",
        "  message = \"Your writing number is: \" + str(np.argmax(features))\n",
        "  print(message)\n",
        "  print(\"Possibility: \" + str(np.max(features)))\n",
        "  print(features)"
      ],
      "execution_count": 16,
      "outputs": [
        {
          "output_type": "stream",
          "text": [
            "0.jpg\n",
            "Your writing number is: 5\n",
            "Possibility: 0.1083215\n",
            "[[0.10126617 0.10799599 0.10005082 0.10136531 0.09288523 0.1083215\n",
            "  0.08984992 0.10151771 0.09484241 0.1019049 ]]\n",
            "1.jpg\n",
            "Your writing number is: 1\n",
            "Possibility: 0.109674655\n",
            "[[0.10151909 0.10967465 0.09952264 0.10219495 0.09209812 0.10921437\n",
            "  0.08921852 0.1004088  0.09382995 0.10231891]]\n",
            "2.jpg\n",
            "Your writing number is: 1\n",
            "Possibility: 0.1140582\n",
            "[[0.08829714 0.1140582  0.10669201 0.11108937 0.08736827 0.11226936\n",
            "  0.07631102 0.10936475 0.0904697  0.10408022]]\n",
            "3.jpg\n",
            "Your writing number is: 3\n",
            "Possibility: 0.5247992\n",
            "[[0.00228241 0.00516623 0.10807185 0.5247992  0.00312028 0.01190873\n",
            "  0.00071824 0.09403665 0.01623191 0.23366453]]\n",
            "4.jpg\n",
            "Your writing number is: 4\n",
            "Possibility: 0.15015174\n",
            "[[0.07840432 0.14288808 0.09546856 0.09851012 0.15015174 0.0843795\n",
            "  0.07272911 0.11600254 0.0721062  0.08935983]]\n",
            "5.jpg\n",
            "Your writing number is: 5\n",
            "Possibility: 0.25683737\n",
            "[[0.03759891 0.14972666 0.07201158 0.18259266 0.04955915 0.25683737\n",
            "  0.04225325 0.0738976  0.05440473 0.08111808]]\n",
            "6.jpg\n",
            "Your writing number is: 5\n",
            "Possibility: 0.1558071\n",
            "[[0.07168245 0.08838714 0.08416205 0.0949016  0.11088788 0.1558071\n",
            "  0.05595636 0.11006809 0.08108619 0.14706114]]\n",
            "7.jpg\n",
            "Your writing number is: 7\n",
            "Possibility: 0.14115432\n",
            "[[0.08020335 0.11853893 0.10532136 0.13513461 0.06704323 0.11508115\n",
            "  0.05447602 0.14115432 0.07480835 0.10823864]]\n",
            "8.jpg\n",
            "Your writing number is: 9\n",
            "Possibility: 0.4201369\n",
            "[[0.00450632 0.00742632 0.02930586 0.38077107 0.02258605 0.03731578\n",
            "  0.00191088 0.03253642 0.06350435 0.4201369 ]]\n",
            "9.jpg\n",
            "Your writing number is: 9\n",
            "Possibility: 0.20729114\n",
            "[[0.03297834 0.11205859 0.0439415  0.13433659 0.08728625 0.19154906\n",
            "  0.03067415 0.06264124 0.09724309 0.20729114]]\n"
          ],
          "name": "stdout"
        }
      ]
    },
    {
      "metadata": {
        "id": "k-eUUhBMlhMC",
        "colab_type": "code",
        "colab": {
          "base_uri": "https://localhost:8080/",
          "height": 680
        },
        "outputId": "dd30dde0-0864-4b86-9836-76634a0f21e5"
      },
      "cell_type": "code",
      "source": [
        "!zip revert.zip revert*jpg \n",
        "!ls -lh\n",
        "files.download(\"revert.zip\")"
      ],
      "execution_count": 17,
      "outputs": [
        {
          "output_type": "stream",
          "text": [
            "  adding: revert-0.jpg (deflated 2%)\r\n",
            "  adding: revert-1.jpg (deflated 3%)\r\n",
            "  adding: revert-2.jpg (deflated 2%)\r\n",
            "  adding: revert-3.jpg (deflated 2%)\r\n",
            "  adding: revert-4.jpg (deflated 2%)\r\n",
            "  adding: revert-5.jpg (deflated 2%)\r\n",
            "  adding: revert-6.jpg (deflated 3%)\r\n",
            "  adding: revert-7.jpg (deflated 2%)\r\n",
            "  adding: revert-8.jpg (deflated 2%)\r\n",
            "  adding: revert-9.jpg (deflated 2%)\n",
            "total 28M\n",
            "-rw-r--r-- 1 root root 1.3M Aug  9 12:49 0.jpg\n",
            "-rw-r--r-- 1 root root 1.1M Aug  9 12:49 1.jpg\n",
            "-rw-r--r-- 1 root root 1.2M Aug  9 12:49 2.jpg\n",
            "-rw-r--r-- 1 root root 1.2M Aug  9 12:49 3.jpg\n",
            "-rw-r--r-- 1 root root 1.2M Aug  9 12:49 4.jpg\n",
            "-rw-r--r-- 1 root root 1.2M Aug  9 12:49 5.jpg\n",
            "-rw-r--r-- 1 root root 1.2M Aug  9 12:49 6.jpg\n",
            "-rw-r--r-- 1 root root 1.2M Aug  9 12:49 7.jpg\n",
            "-rw-r--r-- 1 root root 1.3M Aug  9 12:49 8.jpg\n",
            "-rw-r--r-- 1 root root 1.2M Aug  9 12:49 9.jpg\n",
            "lrwxrwxrwx 1 root root    8 Aug 15 20:56 datalab -> /content\n",
            "-rw-r--r-- 1 root root 4.6M Aug 22 07:24 mnist_predict.hdf5\n",
            "-rw-r--r-- 1 root root 3.6K Aug 22 07:24 mnist_predict.json\n",
            "-rw-r--r-- 1 root root  858 Aug 22 07:26 num.png\n",
            "-rw-r--r-- 1 root root  12M Aug 22 07:30 num.zip\n",
            "-rw-r--r-- 1 root root  575 Aug 22 07:31 revert-0.jpg\n",
            "-rw-r--r-- 1 root root  531 Aug 22 07:31 revert-1.jpg\n",
            "-rw-r--r-- 1 root root  575 Aug 22 07:31 revert-2.jpg\n",
            "-rw-r--r-- 1 root root  640 Aug 22 07:31 revert-3.jpg\n",
            "-rw-r--r-- 1 root root  621 Aug 22 07:31 revert-4.jpg\n",
            "-rw-r--r-- 1 root root  597 Aug 22 07:31 revert-5.jpg\n",
            "-rw-r--r-- 1 root root  567 Aug 22 07:31 revert-6.jpg\n",
            "-rw-r--r-- 1 root root  595 Aug 22 07:31 revert-7.jpg\n",
            "-rw-r--r-- 1 root root  629 Aug 22 07:31 revert-8.jpg\n",
            "-rw-r--r-- 1 root root  572 Aug 22 07:31 revert-9.jpg\n",
            "-rw-r--r-- 1 root root  540 Aug 22 07:26 revert-num.png\n",
            "-rw-r--r-- 1 root root 7.2K Aug 22 07:31 revert.zip\n",
            "drwxr-xr-x 2 root root 4.0K Aug 15 20:56 sample_data\n"
          ],
          "name": "stdout"
        }
      ]
    },
    {
      "metadata": {
        "id": "R-qdGntiHrwf",
        "colab_type": "code",
        "colab": {}
      },
      "cell_type": "code",
      "source": [
        ""
      ],
      "execution_count": 0,
      "outputs": []
    }
  ]
}